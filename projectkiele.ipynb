{
  "nbformat": 4,
  "nbformat_minor": 0,
  "metadata": {
    "colab": {
      "provenance": [],
      "authorship_tag": "ABX9TyOYAOjTO8R58FU09xRzGJUI",
      "include_colab_link": true
    },
    "kernelspec": {
      "name": "python3",
      "display_name": "Python 3"
    },
    "language_info": {
      "name": "python"
    }
  },
  "cells": [
    {
      "cell_type": "markdown",
      "metadata": {
        "id": "view-in-github",
        "colab_type": "text"
      },
      "source": [
        "<a href=\"https://colab.research.google.com/github/lunatrifx/projectkiele/blob/main/projectkiele.ipynb\" target=\"_parent\"><img src=\"https://colab.research.google.com/assets/colab-badge.svg\" alt=\"Open In Colab\"/></a>"
      ]
    },
    {
      "cell_type": "code",
      "execution_count": null,
      "metadata": {
        "id": "e0V0yc1JlEok"
      },
      "outputs": [],
      "source": [
        "import requests #HTTP requests for API data\n",
        "import pandas as pd # data manipulation and analysis\n",
        "import numpy as np # arrays and matrices, math\n",
        "import datetime # library to represent dates "
      ]
    },
    {
      "cell_type": "code",
      "source": [
        "pd.set_option('display.max_columns', None)\n",
        "pd.set_option('display.max_colwidth', None)"
      ],
      "metadata": {
        "id": "jkraZwkVlca8"
      },
      "execution_count": null,
      "outputs": []
    },
    {
      "cell_type": "code",
      "source": [
        "# Extract dataset and call API for Epoch\n",
        "def getEpoch(df):\n",
        "  for x in data['Epoch']:\n",
        "    if x:\n",
        "      response = requests.get(\"https://api.spacexdata.com/v4/starlink\")\n",
        "      Epoch.append(response['name'])"
      ],
      "metadata": {
        "id": "Whp7CIV2p3wX"
      },
      "execution_count": null,
      "outputs": []
    },
    {
      "cell_type": "code",
      "source": [
        "# Extract dataset and call API for Launch date\n",
        "def getLaunch_Date(df):\n",
        "  for x in data['launch_date']:\n",
        "    if x: \n",
        "      response = requests.get(\"https://api.spacexdata.com/v4/starlink\")\n",
        "      Launch_Date.append(response['name'])\n"
      ],
      "metadata": {
        "id": "QNDNnIz2nbfQ"
      },
      "execution_count": null,
      "outputs": []
    },
    {
      "cell_type": "code",
      "source": [
        "#call on API\n",
        "spacex_starlink_url = \"https://api.spacexdata.com/v4/starlink\"\n",
        "response = requests.get(spacex_starlink_url)\n",
        "\n",
        "# to simplify data requests and not hog up resources\n",
        "if response.status_code == 200:\n",
        "    print(\"1\") # Confirmed API is reached\n",
        "else:\n",
        "    print(\"0\") # Confirm API not reached    "
      ],
      "metadata": {
        "colab": {
          "base_uri": "https://localhost:8080/"
        },
        "id": "IHPGjnDMnuBp",
        "outputId": "f82d7636-e853-47c4-f5f1-0c5b66eedb2b"
      },
      "execution_count": null,
      "outputs": [
        {
          "output_type": "stream",
          "name": "stdout",
          "text": [
            "1\n"
          ]
        }
      ]
    },
    {
      "cell_type": "code",
      "source": [
        "# Read the Excel file into a DataFrame\n",
        "excel_file = 'Starlinktest.xlsx'  # Replace with the path to your Excel file\n",
        "df = pd.read_excel(excel_file)\n",
        "\n",
        "# Calculate value counts of the 'velocity_km' column\n",
        "column_counts = df['velocity_kms'].value_counts()\n",
        "\n",
        "print(column_counts)\n",
        "\n"
      ],
      "metadata": {
        "colab": {
          "base_uri": "https://localhost:8080/"
        },
        "id": "neAzoZZmqeRM",
        "outputId": "11297d6a-f376-46c3-d3f4-8b874de108d8"
      },
      "execution_count": 42,
      "outputs": [
        {
          "output_type": "stream",
          "name": "stdout",
          "text": [
            "7.592394    1\n",
            "7.596819    1\n",
            "7.587735    1\n",
            "7.597112    1\n",
            "7.590310    1\n",
            "           ..\n",
            "7.591944    1\n",
            "7.587950    1\n",
            "7.591201    1\n",
            "7.576885    1\n",
            "7.700827    1\n",
            "Name: velocity_kms, Length: 3268, dtype: int64\n"
          ]
        }
      ]
    }
  ]
}