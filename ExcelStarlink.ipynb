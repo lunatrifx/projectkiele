{
  "nbformat": 4,
  "nbformat_minor": 0,
  "metadata": {
    "colab": {
      "provenance": [],
      "authorship_tag": "ABX9TyNuxVJplU/qriqVjn4e9Bmf",
      "include_colab_link": true
    },
    "kernelspec": {
      "name": "python3",
      "display_name": "Python 3"
    },
    "language_info": {
      "name": "python"
    }
  },
  "cells": [
    {
      "cell_type": "markdown",
      "metadata": {
        "id": "view-in-github",
        "colab_type": "text"
      },
      "source": [
        "<a href=\"https://colab.research.google.com/github/lunatrifx/projectkiele/blob/main/ExcelStarlink.ipynb\" target=\"_parent\"><img src=\"https://colab.research.google.com/assets/colab-badge.svg\" alt=\"Open In Colab\"/></a>"
      ]
    },
    {
      "cell_type": "code",
      "execution_count": 2,
      "metadata": {
        "colab": {
          "base_uri": "https://localhost:8080/"
        },
        "id": "qedEvZWxyuMI",
        "outputId": "d5de75b3-e95b-40a3-82d3-456de46eb266"
      },
      "outputs": [
        {
          "output_type": "stream",
          "name": "stdout",
          "text": [
            "Data has been successfully saved to Collab.\n"
          ]
        }
      ],
      "source": [
        "import pandas as pd\n",
        "import requests\n",
        "\n",
        "# URL\n",
        "URL = \"https://api.spacexdata.com/v4/starlink\"\n",
        "\n",
        "# Command to fetch data\n",
        "response = requests.get(URL)\n",
        "data = response.json()\n",
        "\n",
        "# Create DataFrame from Fetched data\n",
        "df = pd.DataFrame(data)\n",
        "\n",
        "# Define the output Excel file path\n",
        "output_file = 'Starlinktest.xlsx'\n",
        "\n",
        "# Write df to an Excel output\n",
        "df.to_excel(output_file, index=False)\n",
        "\n",
        "print(\"Data has been successfully saved to Collab.\")"
      ]
    },
    {
      "cell_type": "code",
      "source": [],
      "metadata": {
        "id": "0Ps1YC5Cy5Ag"
      },
      "execution_count": null,
      "outputs": []
    }
  ]
}